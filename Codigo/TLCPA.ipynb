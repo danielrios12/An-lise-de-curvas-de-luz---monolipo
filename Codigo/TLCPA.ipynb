{
 "cells": [
  {
   "cell_type": "raw",
   "metadata": {
    "collapsed": true
   },
   "source": [
    "Autor: Leandro de Almeida @UFRN may 1th 2017\n",
    "This is an automatic light curve analysis tool from scratch for Kepler's Stars using the kplr interface.\n",
    "The TedLightCurve is provide here for informative purposes only to facilitate the introduction in light curve \n",
    "analisys. Please contact the autor if you want to use any part of this code for publication."
   ]
  },
  {
   "cell_type": "markdown",
   "metadata": {},
   "source": [
    "# This code uses the kplr interface to download raw light curves from MAST servers"
   ]
  },
  {
   "cell_type": "code",
   "execution_count": null,
   "metadata": {
    "collapsed": false
   },
   "outputs": [],
   "source": [
    "#I begin by importing the needed packages\n",
    "import matplotlib\n",
    "import numpy as np\n",
    "import matplotlib.pyplot as plt\n",
    "import scipy as sci\n",
    "import kplr\n",
    "from astropy.stats import LombScargle\n",
    "from numpy.polynomial import Chebyshev as T\n"
   ]
  },
  {
   "cell_type": "code",
   "execution_count": null,
   "metadata": {
    "collapsed": true
   },
   "outputs": [],
   "source": [
    "#Here, I begin to define all the periferical functions that I'll need. \n",
    "#-##############################################################################\n",
    "#-##############################################################################\n",
    "# function responsible to get the light curves from MAST server\n",
    "def get_object(Object,ID,Qtin,Qtfin,method):\n",
    "\n",
    "    client = kplr.API()\n",
    "    if Object == \"planet\":\n",
    "        box = client.planet(ID)\n",
    "\n",
    "    if Object == \"star\":\n",
    "        box = client.star(ID)\n",
    "\n",
    "    lcs = box.get_light_curves()\n",
    "    lcs = lcs[Qtin:Qtfin]\n",
    "\n",
    "    time, flux_a, flux_c, err_a, err_b = [], [], [], [], []\n",
    "    s = 0\n",
    "    for lc in lcs:\n",
    "        with lc.open() as f:\n",
    "            # get the data of each file.\n",
    "            hdu_data = f[1].data\n",
    "            # here, I set the time, flux and error of each quarter\n",
    "            time = np.append(time, hdu_data[\"time\"])\n",
    "            flux_a = np.append(flux_a, hdu_data[\"pdcsap_flux\"])\n",
    "            err_a  = np.append(err_a,  hdu_data[\"pdcsap_flux_err\"])\n",
    "            # here is just to set the minimal cadence if I need.\n",
    "            if s == 0:\n",
    "                cadencia = (max(time)-min(time))/len(time)\n",
    "                s = 1\n",
    "\n",
    "            # depending of the choose normalization:\n",
    "            flux_div, err_div = normalize(hdu_data[\"pdcsap_flux\"], hdu_data[\"pdcsap_flux_err\"], method)\n",
    "            flux_c = np.append(flux_c, flux_div)\n",
    "            err_b =  np.append(err_b, err_div)\n",
    "    return time, flux_a, flux_c, err_a, err_b\n",
    "\n",
    "def normalize(flux,err,method):\n",
    "    \"\"\" Normalize the entry flux using the subtraction or division method, choose as \"sub\" or \"div\".\"\"\"\n",
    "    onde = 1e8# 671688 #where I want to normalize in case of sub (sum)\n",
    "\n",
    "    if method == \"div\":\n",
    "        mediaF = np.nanmedian(flux)\n",
    "        mediaE = np.nanmedian(err)\n",
    "        flux = flux/mediaF\n",
    "        err = err/mediaE - 1\n",
    "\n",
    "    if method == \"sub\":\n",
    "        mediaF = np.nanmedian(flux)\n",
    "        flux = flux + (onde - mediaF)\n",
    "\n",
    "    return flux, err\n",
    "\n",
    "# From now on, all the comments are going to stay in portuguese.\n",
    "def reduction (time_nan, flux_nan, err, cadencia, factor=5, norm=1):\n",
    "    \n",
    "    #agora vou encontrar as gaps entre os quarters e outras gaps menores e preencher com um determinado ruido\n",
    "    faltante_time = [] #esta lista guardara o tempo que falta nos gaps\n",
    "    i = 1       #comecarei a partir do 1 para pegar o segundo comeco (que eh do segundo quarter) pois o primeiro nao interessa\n",
    "    # neste for, irei conferir cada intervalo entre os pontos fotometricos para conferir se ha alguma pausa maior do que um determinado tempo\n",
    "    #de observacao, se houver, entao devo preencher essa gap com um determinado ruido\n",
    "    for i in range (len(time_nan)-1):\n",
    "        teste = time_nan[i]-time_nan[i-1] #este teste confere o valor de tempo entre dois pontos fotometricos\n",
    "        # se o intervalo entre os pontos for maior do que a cadencia definida da observacao, entao entro no if para preencher esse espaco\n",
    "        if teste > 0.0405:\n",
    "            valor = time_nan[i]-time_nan[i-1] #guarda o intervalo de tempo que precisarei preencher\n",
    "            falta_time = np.linspace(time_nan[i-1],time_nan[i],(valor/cadencia)) #cria uma lista que contem os horarios que deveriam haver observacao baseado na cadencia predefinida\n",
    "            faltante_time = np.append(faltante_time, falta_time) #inclui esta lista na minha lista de intervalos das gaps\n",
    "\n",
    "    faltante_flux = np.zeros(len(faltante_time))+norm # crio uma lista com a mesma quantidade de pontos que o tempo que falto nos gaps normalizados em norm (padrao = 1)\n",
    "    faltante_err = np.zeros(len(faltante_time))\n",
    "    faltante_flux = np.random.normal(faltante_flux,np.std(flux_nan)/factor) #aplico alguma randomicidade nesse fluxo\n",
    "    time_nan = np.append(time_nan, faltante_time) #incluo o tempo sintetico dos gaps no tempo original\n",
    "    flux_nan = np.append(flux_nan, faltante_flux) #incluo o fluxo sintetico dos gaps no fluxo original\n",
    "    err_nan = np.append(err, faltante_err)\n",
    "\n",
    "    time_nan, flux_nan = zip(*sorted(zip(time_nan, flux_nan))) #organizo de forma temporal minha lista total de tempo e fluxo\n",
    "    time_nan = np.array(time_nan)   #garanto o aspecto de array para o tempo\n",
    "    flux_nan = np.array(flux_nan) #garanto o aspecto de array para o fluxo flux\n",
    "\n",
    "    return time_nan, flux_nan, err_nan\n",
    "\n",
    "def detrending(time,flux, err, pl):\n",
    "\n",
    "    fluxTrue = np.isfinite(flux) #confere se em um index tem um numero ou nao. retorna True ou False\n",
    "    index = np.where(fluxTrue == True)[0] #indexs que possuem numeros (True)\n",
    "    flux_nan = flux[index] #todos os valores de fluxo sem os \"nan\"s\n",
    "    time = time[index]          # o tempo que corresponde ao fluxo sem \"nan\"\n",
    "    err_nan = err[index]\n",
    "    time_nan = (time - min(time))   # normaliza o inicio do tempo em zero dias\n",
    "    # aqui eu coloco em ordem numerica temporal a curva de luz total\n",
    "    time_nan, flux_nan = zip(*sorted(zip(time_nan, flux_nan)))\n",
    "    time_nan = np.array(time_nan)   #garanto o aspecto de array para o tempo\n",
    "    flux_nan = np.array(flux_nan) #garanto o aspecto de array para o fluxo flux\n",
    "\n",
    "\n",
    "    p = T.fit(time_nan, flux_nan, pl) # faco aqui uma fitagem da curva de forma polinomial com o polinomio definido\n",
    "    flux_model = p(time_nan)        #aplico a minha fitagem com o tempo de observacao\n",
    "    flux_detrended = (flux_nan-flux_model)   # faco a subtracao do real com o modelo\n",
    "    flux_detrended = flux_detrended + 1       # como isso vai pra zero, normalizo de volta em 1\n",
    "\n",
    "    return time_nan, flux_nan, flux_model, flux_detrended, err_nan\n",
    "\n",
    "def detrending2(time,flux, err, pl):\n",
    "\n",
    "    p = T.fit(time, flux, pl) # faco aqui uma fitagem da curva de forma polinomial com o polinomio definido\n",
    "    flux_model = p(time)        #aplico a minha fitagem com o tempo de observacao\n",
    "    flux_detrended = (flux-flux_model)   # faco a subtracao do real com o modelo\n",
    "    flux_detrended = flux_detrended + 1       # como isso vai pra zero, normalizo de volta em 1\n",
    "\n",
    "    return time, flux, flux_model, flux_detrended, err\n",
    "\n",
    "def binagem (time_done, flux_done, err, period, nbins):\n",
    "    foldtime = time_done/period\n",
    "    foldtime = foldtime % 1\n",
    "    width = 1.0/nbins #tamanho de cada bin\n",
    "\n",
    "    bins = np.zeros(nbins)\n",
    "    weights = np.zeros(nbins)\n",
    "\n",
    "    for i in range(len(flux_done)):\n",
    "        n = int(foldtime[i] / width)\n",
    "        weight = err[i]**-2.0\n",
    "        bins[n] += flux_done[i]*weight\n",
    "        weights[n] += weight\n",
    "\n",
    "    bins /= weights\n",
    "\n",
    "    binErr = np.sqrt(1.0/(weights))\n",
    "    binEdges = (np.arange(nbins)*width)\n",
    "    binEdges = np.linspace(0,period*24,nbins)\n",
    "\n",
    "    binEdges = binEdges\n",
    "    plt.plot(binEdges, bins,\"og\")\n",
    "    #plt.errorbar(binEdges,bins,yerr=binErr,linestyle='none',marker='o')  # plot binned lightcurve\n",
    "    plt.show()\n",
    "\n",
    "#-##############################################################################\n",
    "#-##############################################################################"
   ]
  },
  {
   "cell_type": "markdown",
   "metadata": {},
   "source": [
    "# Here is some usefull data:"
   ]
  },
  {
   "cell_type": "raw",
   "metadata": {},
   "source": [
    "binária 5006817 - period: 94.9\n",
    "Prot 5307747 - 143.191\n",
    "Kepler-8b para quartes > 10 - 3.52187\n",
    "Kepler-8b para quartes < 10 - 3.5261\n",
    "Kepler-210b - period: 7.9725\n",
    "Kepler-210c - period: 2.4532\n",
    "Kepler-131b - 16.09"
   ]
  },
  {
   "cell_type": "code",
   "execution_count": null,
   "metadata": {
    "collapsed": true
   },
   "outputs": [],
   "source": [
    "Object = \"planet\"\n",
    "ID = \"kepler-8b\"\n",
    "Qtin = 4\n",
    "Qtfin = 7\n",
    "method = \"div\"\n",
    "detrendy = 1\n",
    "preencher = 50\n",
    "binn = 4000"
   ]
  },
  {
   "cell_type": "code",
   "execution_count": null,
   "metadata": {
    "collapsed": false
   },
   "outputs": [],
   "source": [
    "# Here, I use all the pre-build funcitions: \n",
    "\n",
    "time, flux_original, flux, err_original, err = get_object(Object, ID, Qtin, Qtfin, method)\n",
    "time_nan, flux_nan, flux_model, flux_detrended, err = detrending(time,flux, err, detrendy)\n",
    "time_done, flux_done, err = reduction(time_nan,flux_detrended,err,preencher,factor=4)"
   ]
  },
  {
   "cell_type": "code",
   "execution_count": null,
   "metadata": {
    "collapsed": false
   },
   "outputs": [],
   "source": [
    "#Plot of those reductions\n",
    "%matplotlib notebook\n",
    "plt.subplot(3, 1, 1)\n",
    "plt.title(\"Original Light Curve, Normalized and detrended\")\n",
    "plt.plot(time, flux_original, 'kx')\n",
    "plt.subplot(3, 1, 2)\n",
    "plt.plot(time_nan,flux_nan,'kx')\n",
    "plt.plot(time_nan,flux_model,'b-',lw=1.5)\n",
    "plt.ylim(0.99,1.01)\n",
    "plt.subplot(3, 1, 3)\n",
    "plt.plot(time_nan, flux_detrended, 'kx')\n",
    "plt.ylim(0.99,1.01)\n",
    "plt.show()"
   ]
  },
  {
   "cell_type": "code",
   "execution_count": null,
   "metadata": {
    "collapsed": false
   },
   "outputs": [],
   "source": [
    "# define the frequencies to search.\n",
    "%matplotlib notebook\n",
    "frequency = np.linspace(0.01, 1, 1000)\n",
    "power = LombScargle(time_done, flux_done).power(frequency)\n",
    "#frequency, power = LombScargle(time_done, flux_done).autopower()\n",
    "plt.plot((1/frequency),(power))\n",
    "plt.xlim(0,50)\n",
    "#plt.xscale(\"log\")\n",
    "plt.show()"
   ]
  },
  {
   "cell_type": "code",
   "execution_count": null,
   "metadata": {
    "collapsed": true
   },
   "outputs": [],
   "source": [
    "#-#########################################\n",
    "period = 3.5261\n",
    "\n",
    "foldtime = time_done/period\n",
    "foldtime = foldtime % 1"
   ]
  },
  {
   "cell_type": "code",
   "execution_count": null,
   "metadata": {
    "collapsed": false
   },
   "outputs": [],
   "source": [
    "%matplotlib notebook\n",
    "plt.subplot(2, 1, 1)\n",
    "plt.ylim(0.99,1.01)\n",
    "plt.plot(time_done, flux_done,'rx')\n",
    "plt.subplot(2, 1, 2)\n",
    "plt.plot(foldtime, flux_done, 'kx')\n",
    "plt.ylim(0.99,1.01)\n",
    "plt.show()"
   ]
  },
  {
   "cell_type": "code",
   "execution_count": null,
   "metadata": {
    "collapsed": false
   },
   "outputs": [],
   "source": [
    "%matplotlib notebook\n",
    "binagem(time_done,flux_done,err,period,binn)"
   ]
  },
  {
   "cell_type": "code",
   "execution_count": null,
   "metadata": {
    "collapsed": true
   },
   "outputs": [],
   "source": []
  },
  {
   "cell_type": "code",
   "execution_count": null,
   "metadata": {
    "collapsed": false
   },
   "outputs": [],
   "source": []
  },
  {
   "cell_type": "code",
   "execution_count": null,
   "metadata": {
    "collapsed": true
   },
   "outputs": [],
   "source": []
  }
 ],
 "metadata": {
  "kernelspec": {
   "display_name": "Python 3",
   "language": "python",
   "name": "python3"
  },
  "language_info": {
   "codemirror_mode": {
    "name": "ipython",
    "version": 3
   },
   "file_extension": ".py",
   "mimetype": "text/x-python",
   "name": "python",
   "nbconvert_exporter": "python",
   "pygments_lexer": "ipython3",
   "version": "3.6.0"
  }
 },
 "nbformat": 4,
 "nbformat_minor": 2
}
